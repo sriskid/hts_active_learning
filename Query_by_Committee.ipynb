{
 "cells": [
  {
   "cell_type": "code",
   "execution_count": 1,
   "id": "71356a8e",
   "metadata": {
    "id": "71356a8e"
   },
   "outputs": [
    {
     "name": "stderr",
     "output_type": "stream",
     "text": [
      "<frozen importlib._bootstrap>:228: RuntimeWarning: scipy._lib.messagestream.MessageStream size changed, may indicate binary incompatibility. Expected 56 from C header, got 64 from PyObject\n",
      "WARNING: You are using pip version 21.1.3; however, version 23.1.2 is available.\n",
      "You should consider upgrading via the 'c:\\users\\srisk\\appdata\\local\\programs\\python\\python39\\python.exe -m pip install --upgrade pip' command.\n"
     ]
    },
    {
     "name": "stdout",
     "output_type": "stream",
     "text": [
      "Requirement already satisfied: deepchem in c:\\users\\srisk\\appdata\\local\\programs\\python\\python39\\lib\\site-packages (2.7.1)\n",
      "Requirement already satisfied: numpy>=1.21 in c:\\users\\srisk\\appdata\\local\\programs\\python\\python39\\lib\\site-packages (from deepchem) (1.21.1)\n",
      "Requirement already satisfied: scikit-learn in c:\\users\\srisk\\appdata\\local\\programs\\python\\python39\\lib\\site-packages (from deepchem) (1.1.1)\n",
      "Requirement already satisfied: pandas in c:\\users\\srisk\\appdata\\local\\programs\\python\\python39\\lib\\site-packages (from deepchem) (1.4.0)\n",
      "Requirement already satisfied: scipy<1.9 in c:\\users\\srisk\\appdata\\local\\programs\\python\\python39\\lib\\site-packages (from deepchem) (1.8.1)\n",
      "Requirement already satisfied: rdkit in c:\\users\\srisk\\appdata\\local\\programs\\python\\python39\\lib\\site-packages (from deepchem) (2022.9.5)\n",
      "Requirement already satisfied: joblib in c:\\users\\srisk\\appdata\\local\\programs\\python\\python39\\lib\\site-packages (from deepchem) (1.1.0)\n",
      "Requirement already satisfied: python-dateutil>=2.8.1 in c:\\users\\srisk\\appdata\\local\\programs\\python\\python39\\lib\\site-packages (from pandas->deepchem) (2.8.2)\n",
      "Requirement already satisfied: pytz>=2020.1 in c:\\users\\srisk\\appdata\\local\\programs\\python\\python39\\lib\\site-packages (from pandas->deepchem) (2021.3)\n",
      "Requirement already satisfied: six>=1.5 in c:\\users\\srisk\\appdata\\local\\programs\\python\\python39\\lib\\site-packages (from python-dateutil>=2.8.1->pandas->deepchem) (1.16.0)\n",
      "Requirement already satisfied: Pillow in c:\\users\\srisk\\appdata\\local\\programs\\python\\python39\\lib\\site-packages (from rdkit->deepchem) (8.4.0)\n",
      "Requirement already satisfied: threadpoolctl>=2.0.0 in c:\\users\\srisk\\appdata\\local\\programs\\python\\python39\\lib\\site-packages (from scikit-learn->deepchem) (3.1.0)\n"
     ]
    }
   ],
   "source": [
    "import numpy as np\n",
    "import pandas as pd\n",
    "import os\n",
    "import requests\n",
    "import csv\n",
    "import tensorflow as tf\n",
    "import seaborn as sns\n",
    "import matplotlib.pyplot as plt\n",
    "\n",
    "from keras.preprocessing.text import Tokenizer \n",
    "from keras.utils import pad_sequences\n",
    "from sklearn.model_selection import train_test_split\n",
    "from sklearn.metrics import precision_score, recall_score, f1_score\n",
    "\n",
    "from imblearn.under_sampling import RandomUnderSampler\n",
    "\n",
    "!pip install deepchem\n",
    "import rdkit\n",
    "from rdkit import Chem\n",
    "from rdkit.Chem import RDKFingerprint\n",
    "from rdkit.Chem import rdMolDescriptors\n",
    "\n",
    "from sklearn.linear_model import LogisticRegression\n",
    "from sklearn.neighbors import KNeighborsClassifier\n",
    "from sklearn.tree import DecisionTreeClassifier\n",
    "from scipy.stats import entropy\n",
    "from sklearn.gaussian_process import GaussianProcessClassifier\n",
    "from sklearn.calibration import CalibratedClassifierCV\n",
    "\n",
    "from sklearn.metrics import accuracy_score"
   ]
  },
  {
   "cell_type": "markdown",
   "id": "92069c95",
   "metadata": {
    "id": "92069c95"
   },
   "source": [
    "## EXTRACT DATA\n",
    "CSV file to be present in local machine.<br>\n",
    "FIle name is data.csv"
   ]
  },
  {
   "cell_type": "code",
   "execution_count": 2,
   "id": "Sypt9ZsnLrW7",
   "metadata": {
    "id": "Sypt9ZsnLrW7"
   },
   "outputs": [
    {
     "name": "stdout",
     "output_type": "stream",
     "text": [
      "Data already downloaded, skipping download....\n"
     ]
    }
   ],
   "source": [
    "# Downloading the data from the GitHub repository\n",
    "if os.path.exists(\"data.csv\"):\n",
    "  print(\"Data already downloaded, skipping download....\")\n",
    "else:\n",
    "  url = 'https://github.com/sriskid/hts_active_learning/raw/main/data.csv'\n",
    "  res = requests.get(url, allow_redirects=True)\n",
    "  with open('data.csv','wb') as f:\n",
    "    print(\"Downloading data....\")\n",
    "    f.write(res.content)"
   ]
  },
  {
   "cell_type": "code",
   "execution_count": 3,
   "id": "1124863d",
   "metadata": {
    "id": "1124863d"
   },
   "outputs": [
    {
     "name": "stdout",
     "output_type": "stream",
     "text": [
      "Number of entries processed:  29537\n"
     ]
    }
   ],
   "source": [
    "data = []\n",
    "with open('data.csv', 'r') as csvfile: \n",
    "    reader = csv.reader(csvfile, skipinitialspace=True)\n",
    "    data.append(tuple(next(reader)))\n",
    "    for ID, SMILE, B, RES, is_active in reader:\n",
    "        data.append((ID, SMILE, B, RES, is_active))\n",
    "\n",
    "# remove header\n",
    "data = data[1:]\n",
    "maxlen = len(data)\n",
    "print('Number of entries processed: ', maxlen)"
   ]
  },
  {
   "cell_type": "code",
   "execution_count": 4,
   "id": "8839e596",
   "metadata": {
    "id": "8839e596"
   },
   "outputs": [],
   "source": [
    "# Get only the SMILES data\n",
    "SMILES = []\n",
    "for i in data:\n",
    "    SMILES.append(i[1])"
   ]
  },
  {
   "cell_type": "code",
   "execution_count": 5,
   "id": "7f38a1fc",
   "metadata": {
    "id": "7f38a1fc",
    "scrolled": true
   },
   "outputs": [
    {
     "data": {
      "text/plain": [
       "['c1(c2c([nH]c1)ccc(c2)OCc1ccccc1)CN(C)C ',\n",
       " 'c12[nH]c3c(c1CCN=C2C)ccc(c3)O.Cl.O ']"
      ]
     },
     "execution_count": 5,
     "metadata": {},
     "output_type": "execute_result"
    }
   ],
   "source": [
    "SMILES[0:2]"
   ]
  },
  {
   "cell_type": "markdown",
   "id": "e4e6f4bc",
   "metadata": {
    "id": "e4e6f4bc"
   },
   "source": [
    "## ONE-HOT ENCODING OF SMILES\n",
    "This will help in vectrorizing smiles data.<br>\n",
    "This section will use the tokenizer function that is provided in tensorflow, and we will use keras as the front-end to access the function.<br>\n",
    "Credit: https://www.kaggle.com/code/art3mis/220221-getting-started-with-smiles <br>\n",
    "Inspiration: https://towardsdatascience.com/basic-molecular-representation-for-machine-learning-b6be52e9ff76"
   ]
  },
  {
   "cell_type": "code",
   "execution_count": 6,
   "id": "9f57adb5",
   "metadata": {
    "id": "9f57adb5"
   },
   "outputs": [
    {
     "name": "stdout",
     "output_type": "stream",
     "text": [
      "Encoded string: [ 0  0  0 ...  4  2 10]\n"
     ]
    }
   ],
   "source": [
    "# Create a tokenizer for vectorization. \n",
    "tokenizer = Tokenizer(char_level=True, lower=False)\n",
    "tokenizer.fit_on_texts(SMILES)\n",
    "# Encoding text_to_sequences\n",
    "sequences = tokenizer.texts_to_sequences(SMILES)\n",
    "pad_data = pad_sequences(sequences, maxlen=maxlen)\n",
    "print ('Encoded string:',pad_data[0])"
   ]
  },
  {
   "cell_type": "code",
   "execution_count": 7,
   "id": "458484f0",
   "metadata": {
    "id": "458484f0"
   },
   "outputs": [
    {
     "name": "stdout",
     "output_type": "stream",
     "text": [
      "Decoded string: ['c 1 ( c 2 c ( [ n H ] c 1 ) c c c ( c 2 ) O C c 1 c c c c c 1 ) C N ( C ) C  ']\n"
     ]
    }
   ],
   "source": [
    "#sequences_to_text decodes\n",
    "print ('Decoded string:',tokenizer.sequences_to_texts(pad_data[0:1]))"
   ]
  },
  {
   "cell_type": "code",
   "execution_count": 8,
   "id": "edb3eed2",
   "metadata": {
    "id": "edb3eed2"
   },
   "outputs": [],
   "source": [
    "def decodeOH2SMILES(array, tokenizer):\n",
    "    # Converts one-hot encoded sequences back to SMILES strings.\n",
    "    output = tokenizer.sequences_to_texts(array)\n",
    "    #Modify this if you change the start or end token.\n",
    "    disallowed_characters = 'E! '\n",
    "    for character in disallowed_characters:\n",
    "        output = [i.replace(character,'') for i in output]\n",
    "    return output"
   ]
  },
  {
   "cell_type": "code",
   "execution_count": 9,
   "id": "2a4292b4",
   "metadata": {
    "id": "2a4292b4",
    "scrolled": true
   },
   "outputs": [
    {
     "name": "stdout",
     "output_type": "stream",
     "text": [
      "['c1(c2c([nH]c1)ccc(c2)OCc1ccccc1)CN(C)C', 'c12[nH]c3c(c1CCN=C2C)ccc(c3)O.Cl.O']\n"
     ]
    }
   ],
   "source": [
    "decoded_smiles = decodeOH2SMILES(pad_data[0:2],tokenizer)\n",
    "print(decoded_smiles)"
   ]
  },
  {
   "cell_type": "markdown",
   "id": "9990ae5b",
   "metadata": {
    "id": "9990ae5b"
   },
   "source": [
    "## MOLECULAR FINGERPRINT ENCODING OF SMILES\n",
    "This will help in converting smiles data so that it can be used for applying ML techniques. This is more often used (from surveying)<br>\n",
    "Credit: https://towardsdatascience.com/basic-molecular-representation-for-machine-learning-b6be52e9ff76"
   ]
  },
  {
   "cell_type": "code",
   "execution_count": 10,
   "id": "f057162e",
   "metadata": {
    "id": "f057162e",
    "scrolled": true
   },
   "outputs": [
    {
     "data": {
      "image/png": "[encoded data removed]",
      "text/plain": [
       "<rdkit.Chem.rdchem.Mol at 0x2458955ea50>"
      ]
     },
     "execution_count": 10,
     "metadata": {},
     "output_type": "execute_result"
    }
   ],
   "source": [
    "# Drawing molecules\n",
    "mol = Chem.MolFromSmiles(SMILES[0])\n",
    "mol"
   ]
  },
  {
   "cell_type": "code",
   "execution_count": 11,
   "id": "7f5f6536",
   "metadata": {
    "id": "7f5f6536"
   },
   "outputs": [
    {
     "name": "stderr",
     "output_type": "stream",
     "text": [
      "[12:07:06] WARNING: not removing hydrogen atom without neighbors\n"
     ]
    },
    {
     "data": {
      "text/plain": [
       "array([[1, 0, 0, ..., 0, 0, 1],\n",
       "       [1, 0, 0, ..., 0, 0, 1],\n",
       "       [0, 0, 1, ..., 0, 0, 1],\n",
       "       ...,\n",
       "       [1, 0, 0, ..., 0, 0, 0],\n",
       "       [1, 0, 0, ..., 0, 1, 0],\n",
       "       [1, 0, 0, ..., 0, 0, 0]])"
      ]
     },
     "execution_count": 11,
     "metadata": {},
     "output_type": "execute_result"
    }
   ],
   "source": [
    "# We will be using RDK fingerprint to vectorize all our SMILES structures\n",
    "fingerprints = []\n",
    "for i in range(len(SMILES)):\n",
    "    mol = Chem.MolFromSmiles(SMILES[i])\n",
    "    fingerprint_rdk = np.array(RDKFingerprint(mol))\n",
    "    fingerprints.append(fingerprint_rdk)\n",
    "fingerprints = np.array(fingerprints)\n",
    "fingerprints"
   ]
  },
  {
   "cell_type": "markdown",
   "id": "98ff12f0",
   "metadata": {
    "id": "98ff12f0"
   },
   "source": [
    "## VISUALIZATION OF DATA\n",
    "Data is obtained from the following paper - https://doi.org/10.1371/journal.pcbi.1010613 <br>\n",
    "In this paper (and a previous paper of theirs), they conducted a series of HTS to obtain the Average B-score and residual values for a series of small molecules to see their potency against Burkholderia cenocepacia.<br>\n",
    "Quoting the paper,<br>\n",
    "\n",
    "\"The dataset used in the ML approach consisted of 29,537 compounds with residual growth (RG) values and average B-scores. The RG measures the ratio of bacterial growth in the presence and absence of the compounds. The B-score measures relative potency that adjusts the RG for any screening artifacts resulting from well position (row and column) in the assay plate during the HTS. The B-score is inversely proportional to compound potency, where negative B-scores indicate greater growth inhibitory activity of the compounds. To binarize the compounds, the previously established average B-score threshold of -17.5 was chosen [https://doi.org/10.1371/journal.pone.0128587]. Overall, 256 small molecules were classified as growth inhibitory.\"\n",
    "\n",
    "Staying true to the essence of the paper, we will be setting a threshold of -17.5 for B-score in our data as well, i.e. below this threshold, the compound is labeled active, and otherwise inactive."
   ]
  },
  {
   "cell_type": "code",
   "execution_count": 12,
   "id": "07e003d7",
   "metadata": {
    "id": "07e003d7"
   },
   "outputs": [
    {
     "name": "stdout",
     "output_type": "stream",
     "text": [
      "Number of active compounds = 256\n"
     ]
    }
   ],
   "source": [
    "# Checking data for number of active compounds\n",
    "# idx - ID, SMILE, B, RES, is_active\n",
    "count = 0\n",
    "for i in range(len(data)):\n",
    "    if float(data[i][2]) <= -17.5:\n",
    "        if float(data[i][4]) == 1:\n",
    "            count += 1\n",
    "print(\"Number of active compounds =\",count)\n",
    "# This follows what is mentioned in the paper."
   ]
  },
  {
   "cell_type": "code",
   "execution_count": 13,
   "id": "be435398",
   "metadata": {
    "id": "be435398"
   },
   "outputs": [],
   "source": [
    "# Get the B-score values\n",
    "Bscores = []\n",
    "active = []\n",
    "is_active = []\n",
    "for i in range(len(data)):\n",
    "    Bscores.append(float(data[i][2]))\n",
    "    is_active.append(float(data[i][4]))\n",
    "    if float(data[i][4]) == 0:\n",
    "        active.append(\"Inactive\")\n",
    "    else:\n",
    "         active.append(\"Active\")   \n",
    "compound_idx = np.arange(len(Bscores))\n",
    "is_active = np.array(is_active)"
   ]
  },
  {
   "cell_type": "code",
   "execution_count": 14,
   "id": "f3a3ab9c",
   "metadata": {
    "id": "f3a3ab9c"
   },
   "outputs": [
    {
     "data": {
      "text/plain": [
       "[Text(0.5, 0, 'Compound Index'), Text(0, 0.5, 'B-Score')]"
      ]
     },
     "execution_count": 14,
     "metadata": {},
     "output_type": "execute_result"
    },
    {
     "data": {
      "image/png": "[encoded data removed]",
      "text/plain": [
       "<Figure size 432x288 with 1 Axes>"
      ]
     },
     "metadata": {
      "needs_background": "light"
     },
     "output_type": "display_data"
    }
   ],
   "source": [
    "# Visualizing data\n",
    "# Plot B-scores\n",
    "fig, ax = plt.subplots()\n",
    "# plt.scatter(compound_idx[0:100], Bscores[0:100], c =\"blue\")\n",
    "sns.set(style='whitegrid')\n",
    "sns.scatterplot(x=compound_idx,\n",
    "                    y=Bscores,\n",
    "                    hue=active, marker='+')\n",
    "# ax.set_ylim(-500, 100)\n",
    "ax.set(xlabel='Compound Index', ylabel='B-Score')"
   ]
  },
  {
   "cell_type": "markdown",
   "id": "K-JIrtfG7X6C",
   "metadata": {
    "id": "K-JIrtfG7X6C"
   },
   "source": [
    "## Query by Committee Implementation"
   ]
  },
  {
   "cell_type": "markdown",
   "id": "1e4772cc",
   "metadata": {},
   "source": [
    "### Creating the Base Learner nad Committee Models"
   ]
  },
  {
   "cell_type": "code",
   "execution_count": 15,
   "id": "86db6637",
   "metadata": {
    "id": "86db6637"
   },
   "outputs": [],
   "source": [
    "# Creating a Logistic Regression Model Base Learner\n",
    "class LogR():\n",
    "    def __init__(self, x, y):\n",
    "        self.trainX = x\n",
    "        self.trainY = y\n",
    "        self.model = LogisticRegression(random_state=0, max_iter=500)\n",
    "\n",
    "    def fit(self):\n",
    "        self.model.fit(self.trainX, self.trainY)\n",
    "        \n",
    "    def predict(self, x):\n",
    "        return self.model.predict(x)\n",
    "\n",
    "    def generate_acc(self, pred, true):\n",
    "        return accuracy_score(true, pred)\n",
    "    \n",
    "    def precision(self, pred, true):\n",
    "        precision = precision_score(true, pred)\n",
    "        return precision\n",
    "\n",
    "    def recall(self, pred, true):\n",
    "        recall = recall_score(true, pred)\n",
    "        return recall\n",
    "\n",
    "    def F1_score(self, pred, true):\n",
    "        f1 = f1_score(true, pred)\n",
    "        return f1"
   ]
  },
  {
   "cell_type": "code",
   "execution_count": 66,
   "id": "aFqmVJkg7vYc",
   "metadata": {
    "id": "aFqmVJkg7vYc"
   },
   "outputs": [],
   "source": [
    "# Create Committee Model\n",
    "class Committee():\n",
    "  def __init__(self):\n",
    "    self.classifiers = [DecisionTreeClassifier(min_samples_leaf = 15), # Create the committee members\n",
    "                        KNeighborsClassifier(),\n",
    "                        LogisticRegression(max_iter = 500),\n",
    "                       GaussianProcessClassifier()]\n",
    "    \n",
    "  def train(self, X_labeled, y_labeled): # Train all o the committee members \n",
    "    for classifier in self.classifiers:\n",
    "      indices = np.random.choice(range(len(X_labeled)), size=len(X_labeled), replace=True) # Bootstrapping\n",
    "      X = X_labeled[indices]\n",
    "      y = y_labeled[indices]\n",
    "      classifier.fit(X,y)\n",
    "              \n",
    "  def predict(self, X_unlabeled):\n",
    "    predictions = []\n",
    "    for classifier in self.classifiers:\n",
    "      predictions.append(classifier.predict(X_unlabeled))\n",
    "    return np.array(predictions)\n",
    "\n",
    "  def vote_proba(self, X): # Create a matrix of prediction probabilities usable for labeled and unlabeled data\n",
    "        votes = np.zeros((len(X), 2))\n",
    "        for classifier in self.classifiers:\n",
    "            probs = classifier.predict_proba(X)\n",
    "            votes += probs\n",
    "        votes /= len(self.classifiers)\n",
    "        return votes\n",
    "    \n",
    "  def fit_platt_scaling(self, X_labeled, y_labeled): # Performa Platt Scaling\n",
    "        votes = self.vote_proba(X_labeled)\n",
    "        self.scaler = LogisticRegression()\n",
    "        self.scaler.fit(votes[:, 0].reshape(-1, 1), y_labeled)\n",
    "        \n",
    "  def predict_proba(self, X_unlabeled): # Gives the scaled prediction probabilities\n",
    "        votes = self.vote_proba(X_unlabeled)\n",
    "        return self.scaler.predict_proba(votes[:, 0].reshape(-1, 1))\n",
    "\n",
    "  def kl_divergence(self, p, q): # Calculate the KL-divergence given two probability distributions\n",
    "        epsilon = 1e-10\n",
    "        return np.sum(p * np.log((p + epsilon) / (q + epsilon)))\n",
    "    \n",
    "  def disagreement(self, X): # Calculates disagreement between committee memebers Using Average KL-Divergence\n",
    "        probs = self.predict_proba(X)\n",
    "        kl_divs = np.zeros((len(X), len(self.classifiers)))\n",
    "        for i, classifier in enumerate(self.classifiers):\n",
    "#             print(f\"classifier: {classifier:} \\n {classifier.predict_proba(X)}\")\n",
    "            kl_divs[:, i] = self.kl_divergence(probs, classifier.predict_proba(X))\n",
    "        return np.mean(kl_divs, axis=1)\n",
    "\n",
    "  def hard_vote_probabilities(self, X_unlabeled): # Calculates disagreement between committee memebers Using Hard-vote Entropy\n",
    "    predictions = self.predict(X_unlabeled)\n",
    "    hard_vote = np.apply_along_axis(lambda x: np.argmax(np.bincount(x)), axis = 0, arr = predictions)\n",
    "    probabilities = np.zeros((X_unlabeled.shape[0], np.max(hard_vote) + 1))\n",
    "    for i in range(len(hard_vote)):\n",
    "      probabilities[i][hard_vote[i]] = 1\n",
    "    return probabilities\n",
    "\n",
    "  def entropy(self, X_unlabeled): # Calculates Entropy if using Hard-Vote Entropy\n",
    "      probabilities = self.hard_vote_probabilities(X_unlabeled)\n",
    "      entropy = -np.sum(probabilities * np.log2(probabilities + 1e-6), axis=1)\n",
    "      return entropy\n",
    "    \n",
    "  def disagreement_rate(self, X): # Uses the disagreement rate as a metric for disagreement among committee members\n",
    "    predictions = self.predict(X)\n",
    "    disagreement = [1 if len(set(prediction)) > 1 else 0 for prediction in predictions]\n",
    "    return sum(disagreement) / len(disagreement)\n",
    "    \n",
    "  def diagreement_rate_list(self, X_unlabeled):\n",
    "    batch_size = 1\n",
    "    return [self.disagreement_rate(X_unlabeled[i:i+batch_size]) for i in range(0, len(X_unlabeled), batch_size)]\n"
   ]
  },
  {
   "cell_type": "markdown",
   "id": "ac102a06",
   "metadata": {},
   "source": [
    "### Computing the Simulation"
   ]
  },
  {
   "cell_type": "code",
   "execution_count": 67,
   "id": "yMvtXA6kKI1B",
   "metadata": {
    "id": "yMvtXA6kKI1B"
   },
   "outputs": [],
   "source": [
    " def initialization(X_resampled, y_resampled, split_ratio = 0.05):\n",
    "        \"\"\"Initializes the first labeled samples to which we perform active learning on. Starts with using 5 % of the data \n",
    "        as initialization\"\"\"\n",
    "    rand_idx = np.random.permutation(len(X_resampled))\n",
    "    train_size = round(len(X_resampled)*split_ratio)\n",
    "    trainX = X_resampled[rand_idx[0:train_size]]\n",
    "    testX = X_resampled[rand_idx[train_size:len(X_resampled)]]\n",
    "    trainY = y_resampled[rand_idx[0:train_size]]\n",
    "    testY = y_resampled[rand_idx[train_size:len(X_resampled)]]\n",
    "    \n",
    "    return trainX, testX, trainY, testY"
   ]
  },
  {
   "cell_type": "code",
   "execution_count": 68,
   "id": "c8f7884a",
   "metadata": {
    "id": "c8f7884a"
   },
   "outputs": [],
   "source": [
    "\n",
    "def QBC(X_resampled, y_resampled):\n",
    "    \n",
    "    trainX, testX, trainY, testY = initialization(X_resampled, y_resampled) # Initialization\n",
    "    model = LogR(trainX, trainY)  # Initializing the base learner\n",
    "    \n",
    "    accuracies = []\n",
    "    f1_scores = []\n",
    "    recalls = []\n",
    "    precisions = []\n",
    "\n",
    "    model.fit() # Fitting on the initial instances\n",
    "    y_pred = model.predict(testX) # Making predictions after training on initial instances\n",
    "\n",
    "    accuracy = model.generate_acc(y_pred, testY)\n",
    "    accuracies.append(accuracy)\n",
    "\n",
    "    f1_score = model.F1_score(y_pred, testY)\n",
    "    f1_scores.append(f1_score)\n",
    "\n",
    "    recall = model.recall(y_pred, testY)\n",
    "    recalls.append(recall)\n",
    "\n",
    "    precision = model.precision(y_pred, testY)\n",
    "    precisions.append(precision)\n",
    "    \n",
    "    \n",
    "    committee = Committee() # Initializing committee\n",
    "    rounds = 0\n",
    "    while rounds < 474:\n",
    "      committee.train(trainX, trainY) # Train Committee\n",
    "      committee.fit_platt_scaling(trainX, trainY) # Platt Scaling\n",
    "      disagreements = committee.disagreement(testX) # Calculate the disagreement among unobserved instances\n",
    "#       disagreements = committee.get_average_kld(testX)\n",
    "      next_data_index = np.argmax(disagreements) # Calculate the unobserved instance with the highest disagreement\n",
    "      new_x = testX[next_data_index]\n",
    "      trainX = np.vstack((trainX, new_x)) # Adding instance to observed instances\n",
    "      testX = np.delete(testX, next_data_index, axis=0)\n",
    "      new_y = testY[next_data_index]\n",
    "      testY = np.delete(testY, next_data_index)\n",
    "      trainY = np.append(trainY, new_y)\n",
    "      model.trainX = trainX\n",
    "      model.trainY = trainY\n",
    "      model.fit() \n",
    "      y_pred = model.predict(testX)\n",
    "\n",
    "      accuracy = model.generate_acc(y_pred, testY)\n",
    "      accuracies.append(accuracy)\n",
    "\n",
    "      f1_score = model.F1_score(y_pred, testY)\n",
    "      f1_scores.append(f1_score)\n",
    "\n",
    "      recall = model.recall(y_pred, testY)\n",
    "      recalls.append(recall)\n",
    "\n",
    "      precision = model.precision(y_pred, testY)\n",
    "      precisions.append(precision)\n",
    "\n",
    "      rounds += 1\n",
    "    accuracies, f1_scores, recalls, precisions = np.array(accuracies), np.array(f1_scores), np.array(recalls), np.array(precisions)\n",
    "\n",
    "    return accuracies, f1_scores, recalls, precisions"
   ]
  },
  {
   "cell_type": "markdown",
   "id": "bfbc3814",
   "metadata": {},
   "source": [
    "## Running the Simulations"
   ]
  },
  {
   "cell_type": "code",
   "execution_count": 70,
   "id": "37deedbc",
   "metadata": {
    "colab": {
     "base_uri": "https://localhost:8080/"
    },
    "id": "37deedbc",
    "outputId": "9b38046f-aa70-4e1c-d098-90fe69806458"
   },
   "outputs": [
    {
     "name": "stdout",
     "output_type": "stream",
     "text": [
      "Simulation 0 | Accuracy: 0.3333333333333333 | F1 Score: 0.42857142857142855 | Recall: 0.42857142857142855 | Precision: 0.42857142857142855\n",
      "Simulation 1 | Accuracy: 0.75 | F1 Score: 0.7692307692307692 | Recall: 0.7142857142857143 | Precision: 0.8333333333333334\n",
      "Simulation 2 | Accuracy: 0.8333333333333334 | F1 Score: 0.8750000000000001 | Recall: 1.0 | Precision: 0.7777777777777778\n",
      "Simulation 3 | Accuracy: 0.8333333333333334 | F1 Score: 0.8000000000000002 | Recall: 0.8 | Precision: 0.8\n",
      "Simulation 4 | Accuracy: 0.75 | F1 Score: 0.6666666666666665 | Recall: 0.6 | Precision: 0.75\n",
      "Simulation 5 | Accuracy: 0.5833333333333334 | F1 Score: 0.4444444444444445 | Recall: 0.5 | Precision: 0.4\n",
      "Simulation 6 | Accuracy: 0.6666666666666666 | F1 Score: 0.75 | Recall: 0.8571428571428571 | Precision: 0.6666666666666666\n",
      "Simulation 7 | Accuracy: 0.75 | F1 Score: 0.7692307692307692 | Recall: 0.8333333333333334 | Precision: 0.7142857142857143\n",
      "Simulation 8 | Accuracy: 0.5833333333333334 | F1 Score: 0.5454545454545454 | Recall: 0.6 | Precision: 0.5\n",
      "Simulation 9 | Accuracy: 1.0 | F1 Score: 1.0 | Recall: 1.0 | Precision: 1.0\n",
      "Total time taken for all simulations is 3429.3655782999995 seconds\n"
     ]
    }
   ],
   "source": [
    "# Run multiple simulations \n",
    "from timeit import default_timer as timer\n",
    "\n",
    "start_timer = timer()\n",
    "\n",
    "accuracy_matrix = np.empty((10,475)) # Matrices to store values for plotting\n",
    "f1_matrix = np.empty((10,475))\n",
    "recall_matrix = np.empty((10,475))\n",
    "precision_matrix = np.empty((10,475))\n",
    "\n",
    "rus = RandomUnderSampler(random_state = 10) \n",
    "X_resampled, y_resampled = rus.fit_resample(fingerprints, is_active) # Undersampling to handle label imbalance\n",
    "\n",
    "for simulation in range(10):\n",
    "    np.random.seed(simulation+10) \n",
    "    accuracies, f1_scores, recalls, precisions = QBC(X_resampled, y_resampled)\n",
    "    accuracy_matrix = np.vstack([accuracy_matrix, accuracies])\n",
    "    f1_matrix = np.vstack([f1_matrix, f1_scores])\n",
    "    recall_matrix = np.vstack([recall_matrix, recalls])\n",
    "    precision_matrix = np.vstack([precision_matrix, precisions])\n",
    "\n",
    "    print(f\"Simulation {simulation} | Accuracy: {accuracies[-1]} | F1 Score: {f1_scores[-1]} | Recall: {recalls[-1]} | Precision: {precisions[-1]}\")\n",
    "\n",
    "end_timer = timer()\n",
    "\n",
    "print(f\"Total time taken for all simulations is {end_timer - start_timer} seconds\")"
   ]
  },
  {
   "cell_type": "code",
   "execution_count": 71,
   "id": "d11f59e3",
   "metadata": {
    "id": "d11f59e3"
   },
   "outputs": [],
   "source": [
    "true_acc = accuracy_matrix[10:,:]\n",
    "true_f1 = f1_matrix[10:,:]\n",
    "true_recall = recall_matrix[10:,:]\n",
    "true_precision = precision_matrix[10:,:]\n",
    "\n",
    "avg_acc = np.mean(true_acc, axis = 0)[-1]\n",
    "avg_std = np.std(true_acc, axis = 0)[-1]\n"
   ]
  },
  {
   "cell_type": "code",
   "execution_count": 72,
   "id": "1a6800fd",
   "metadata": {
    "id": "1a6800fd"
   },
   "outputs": [
    {
     "name": "stdout",
     "output_type": "stream",
     "text": [
      "The average accuracy over all simulations = 0.7083333333333333\n",
      "The standard deviation over all simulations = 0.1717960677340692\n"
     ]
    }
   ],
   "source": [
    "print(\"The average accuracy over all simulations =\", avg_acc)\n",
    "print(\"The standard deviation over all simulations =\", avg_std)"
   ]
  },
  {
   "cell_type": "code",
   "execution_count": 73,
   "id": "3b9da7a5",
   "metadata": {},
   "outputs": [],
   "source": [
    "qbc_acc_std = np.std(true_acc, axis = 0)\n",
    "qbc_acc_mean = np.mean(true_acc, axis = 0)\n",
    "\n",
    "qbc_f1_mean = np.mean(true_f1, axis = 0)\n",
    "qbc_f1_std = np.std(true_f1, axis = 0)\n",
    "\n",
    "qbc_recall_mean = np.mean(true_recall, axis = 0)\n",
    "qbc_recall_std = np.std(true_recall, axis = 0)\n",
    "\n",
    "qbc_precision_mean = np.mean(true_precision, axis = 0)\n",
    "qbc_precision_std = np.std(true_precision, axis = 0)"
   ]
  },
  {
   "cell_type": "code",
   "execution_count": 74,
   "id": "c25ed761",
   "metadata": {},
   "outputs": [
    {
     "name": "stdout",
     "output_type": "stream",
     "text": [
      "Folder QBC_Metrics_npys already exists\n"
     ]
    }
   ],
   "source": [
    "# Create a Directory\n",
    "path = \"QBC_Metrics_npys\"\n",
    "if not os.path.exists(path):\n",
    "    os.mkdir(path)\n",
    "    print(\"Folder %s created!\" % path)\n",
    "else:\n",
    "    print(\"Folder %s already exists\" % path)"
   ]
  },
  {
   "cell_type": "code",
   "execution_count": 77,
   "id": "5a88bc9f",
   "metadata": {
    "id": "5a88bc9f"
   },
   "outputs": [],
   "source": [
    "# Save the data\n",
    "np.save(path+\"/QBC_Accuracy_platt_mean.npy\", qbc_acc_mean)\n",
    "np.save(path+\"/QBC_Accuracy_platt_std.npy\", qbc_acc_std)\n",
    "\n",
    "np.save(path+\"/QBC_F1_platt_mean.npy\", qbc_f1_mean)\n",
    "np.save(path+\"/QBC_F1_platt_std.npy\", qbc_f1_std)\n",
    "\n",
    "np.save(path+\"/QBC_Recall_platt_mean.npy\", qbc_recall_mean)\n",
    "np.save(path+\"/QBC_Recall_platt_std.npy\", qbc_recall_std)\n",
    "\n",
    "\n",
    "np.save(path+\"/QBC_Precision_platt_mean.npy\", qbc_precision_mean)\n",
    "np.save(path+\"/QBC_Precision_platt_std.npy\", qbc_precision_std)"
   ]
  },
  {
   "cell_type": "code",
   "execution_count": 76,
   "id": "32b1c916",
   "metadata": {},
   "outputs": [
    {
     "data": {
      "text/plain": [
       "[<matplotlib.lines.Line2D at 0x245962c2760>]"
      ]
     },
     "execution_count": 76,
     "metadata": {},
     "output_type": "execute_result"
    },
    {
     "data": {
      "image/png": "[encoded data removed]",
      "text/plain": [
       "<Figure size 432x288 with 1 Axes>"
      ]
     },
     "metadata": {},
     "output_type": "display_data"
    }
   ],
   "source": [
    "plt.plot(np.arange(1,476,1), qbc_acc_mean)"
   ]
  },
  {
   "cell_type": "code",
   "execution_count": null,
   "id": "1b9f488f",
   "metadata": {},
   "outputs": [],
   "source": []
  }
 ],
 "metadata": {
  "colab": {
   "provenance": []
  },
  "kernelspec": {
   "display_name": "Python 3 (ipykernel)",
   "language": "python",
   "name": "python3"
  },
  "language_info": {
   "codemirror_mode": {
    "name": "ipython",
    "version": 3
   },
   "file_extension": ".py",
   "mimetype": "text/x-python",
   "name": "python",
   "nbconvert_exporter": "python",
   "pygments_lexer": "ipython3",
   "version": "3.9.6"
  }
 },
 "nbformat": 4,
 "nbformat_minor": 5
}
