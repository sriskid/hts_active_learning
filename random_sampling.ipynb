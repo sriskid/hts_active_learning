{
 "cells": [
  {
   "cell_type": "code",
   "execution_count": 1,
   "id": "71356a8e",
   "metadata": {},
   "outputs": [
    {
     "name": "stderr",
     "output_type": "stream",
     "text": [
      "2023-05-05 15:26:25.356791: I tensorflow/core/platform/cpu_feature_guard.cc:193] This TensorFlow binary is optimized with oneAPI Deep Neural Network Library (oneDNN) to use the following CPU instructions in performance-critical operations:  AVX2 FMA\n",
      "To enable them in other operations, rebuild TensorFlow with the appropriate compiler flags.\n"
     ]
    }
   ],
   "source": [
    "import numpy as np\n",
    "import pandas as pd\n",
    "import os\n",
    "import csv\n",
    "import tensorflow as tf\n",
    "import seaborn as sns\n",
    "import matplotlib.pyplot as plt\n",
    "\n",
    "from keras.preprocessing.text import Tokenizer \n",
    "from keras_preprocessing.sequence import pad_sequences \n",
    "# from sklearn.model_selection import train_test_split\n",
    "\n",
    "from imblearn.under_sampling import RandomUnderSampler\n",
    "from sklearn.metrics import precision_score, recall_score, f1_score\n",
    "\n",
    "from rdkit import Chem\n",
    "from rdkit.Chem import RDKFingerprint\n",
    "from rdkit.Chem import rdMolDescriptors\n",
    "\n",
    "from sklearn.linear_model import LogisticRegression\n",
    "from sklearn.metrics import accuracy_score"
   ]
  },
  {
   "cell_type": "markdown",
   "id": "c4e58deb",
   "metadata": {},
   "source": [
    "## EXTRACT DATA\n",
    "CSV file to be present in local machine.<br>\n",
    "FIle name is data.csv"
   ]
  },
  {
   "cell_type": "code",
   "execution_count": 2,
   "id": "1124863d",
   "metadata": {},
   "outputs": [
    {
     "name": "stdout",
     "output_type": "stream",
     "text": [
      "Number of entries processed:  29537\n"
     ]
    }
   ],
   "source": [
    "data = []\n",
    "with open('data.csv', 'r') as csvfile: \n",
    "    reader = csv.reader(csvfile, skipinitialspace=True)\n",
    "    data.append(tuple(next(reader)))\n",
    "    for ID, SMILE, B, RES, is_active in reader:\n",
    "        data.append((ID, SMILE, B, RES, is_active))\n",
    "\n",
    "# remove header\n",
    "data = data[1:]\n",
    "maxlen = len(data)\n",
    "print('Number of entries processed: ', maxlen)"
   ]
  },
  {
   "cell_type": "code",
   "execution_count": 3,
   "id": "8839e596",
   "metadata": {},
   "outputs": [],
   "source": [
    "# Get only the SMILES data\n",
    "SMILES = []\n",
    "for i in data:\n",
    "    SMILES.append(i[1])"
   ]
  },
  {
   "cell_type": "code",
   "execution_count": 4,
   "id": "7f38a1fc",
   "metadata": {
    "scrolled": true
   },
   "outputs": [
    {
     "data": {
      "text/plain": [
       "['c1(c2c([nH]c1)ccc(c2)OCc1ccccc1)CN(C)C ',\n",
       " 'c12[nH]c3c(c1CCN=C2C)ccc(c3)O.Cl.O ']"
      ]
     },
     "execution_count": 4,
     "metadata": {},
     "output_type": "execute_result"
    }
   ],
   "source": [
    "SMILES[0:2]"
   ]
  },
  {
   "cell_type": "markdown",
   "id": "e4e6f4bc",
   "metadata": {},
   "source": [
    "## ONE-HOT ENCODING OF SMILES\n",
    "This will help in vectrorizing smiles data.<br>\n",
    "This section will use the tokenizer function that is provided in tensorflow, and we will use keras as the front-end to access the function.<br>\n",
    "Credit: https://www.kaggle.com/code/art3mis/220221-getting-started-with-smiles <br>\n",
    "Inspiration: https://towardsdatascience.com/basic-molecular-representation-for-machine-learning-b6be52e9ff76"
   ]
  },
  {
   "cell_type": "code",
   "execution_count": 5,
   "id": "9f57adb5",
   "metadata": {},
   "outputs": [
    {
     "name": "stdout",
     "output_type": "stream",
     "text": [
      "Encoded string: [ 0  0  0 ...  4  2 10]\n"
     ]
    }
   ],
   "source": [
    "# Create a tokenizer for vectorization. \n",
    "tokenizer = Tokenizer(char_level=True, lower=False)\n",
    "tokenizer.fit_on_texts(SMILES)\n",
    "# Encoding text_to_sequences\n",
    "sequences = tokenizer.texts_to_sequences(SMILES)\n",
    "pad_data = pad_sequences(sequences, maxlen=maxlen)\n",
    "print ('Encoded string:',pad_data[0])"
   ]
  },
  {
   "cell_type": "code",
   "execution_count": 6,
   "id": "458484f0",
   "metadata": {},
   "outputs": [
    {
     "name": "stdout",
     "output_type": "stream",
     "text": [
      "Decoded string: ['c 1 ( c 2 c ( [ n H ] c 1 ) c c c ( c 2 ) O C c 1 c c c c c 1 ) C N ( C ) C  ']\n"
     ]
    }
   ],
   "source": [
    "#sequences_to_text decodes\n",
    "print ('Decoded string:',tokenizer.sequences_to_texts(pad_data[0:1]))"
   ]
  },
  {
   "cell_type": "code",
   "execution_count": 7,
   "id": "edb3eed2",
   "metadata": {},
   "outputs": [],
   "source": [
    "def decodeOH2SMILES(array, tokenizer):\n",
    "    # Converts one-hot encoded sequences back to SMILES strings.\n",
    "    output = tokenizer.sequences_to_texts(array)\n",
    "    #Modify this if you change the start or end token.\n",
    "    disallowed_characters = 'E! '\n",
    "    for character in disallowed_characters:\n",
    "        output = [i.replace(character,'') for i in output]\n",
    "    return output"
   ]
  },
  {
   "cell_type": "code",
   "execution_count": 8,
   "id": "2a4292b4",
   "metadata": {
    "scrolled": true
   },
   "outputs": [
    {
     "name": "stdout",
     "output_type": "stream",
     "text": [
      "['c1(c2c([nH]c1)ccc(c2)OCc1ccccc1)CN(C)C', 'c12[nH]c3c(c1CCN=C2C)ccc(c3)O.Cl.O']\n"
     ]
    }
   ],
   "source": [
    "decoded_smiles = decodeOH2SMILES(pad_data[0:2],tokenizer)\n",
    "print(decoded_smiles)"
   ]
  },
  {
   "cell_type": "markdown",
   "id": "5db38628",
   "metadata": {},
   "source": [
    "## MOLECULAR FINGERPRINT ENCODING OF SMILES\n",
    "This will help in converting smiles data so that it can be used for applying ML techniques. This is more often used (from surveying)<br>\n",
    "Credit: https://towardsdatascience.com/basic-molecular-representation-for-machine-learning-b6be52e9ff76"
   ]
  },
  {
   "cell_type": "code",
   "execution_count": 9,
   "id": "032911ee",
   "metadata": {
    "scrolled": true
   },
   "outputs": [
    {
     "data": {
      "image/png": "[encoded data removed]",
      "text/plain": [
       "<rdkit.Chem.rdchem.Mol at 0x7feaf1b64580>"
      ]
     },
     "execution_count": 9,
     "metadata": {},
     "output_type": "execute_result"
    }
   ],
   "source": [
    "# Drawing molecules\n",
    "mol = Chem.MolFromSmiles(SMILES[0])\n",
    "mol"
   ]
  },
  {
   "cell_type": "code",
   "execution_count": 10,
   "id": "66bad49e",
   "metadata": {},
   "outputs": [
    {
     "name": "stderr",
     "output_type": "stream",
     "text": [
      "[15:28:49] WARNING: not removing hydrogen atom without neighbors\n"
     ]
    },
    {
     "data": {
      "text/plain": [
       "array([[1, 0, 0, ..., 0, 0, 1],\n",
       "       [1, 0, 0, ..., 0, 0, 1],\n",
       "       [0, 0, 1, ..., 0, 0, 1],\n",
       "       ...,\n",
       "       [1, 0, 0, ..., 0, 0, 0],\n",
       "       [1, 0, 0, ..., 0, 1, 0],\n",
       "       [1, 0, 0, ..., 0, 0, 0]])"
      ]
     },
     "execution_count": 10,
     "metadata": {},
     "output_type": "execute_result"
    }
   ],
   "source": [
    "# We will be using RDK fingerprint to vectorize all our SMILES structures\n",
    "fingerprints = []\n",
    "for i in range(len(SMILES)):\n",
    "    mol = Chem.MolFromSmiles(SMILES[i])\n",
    "    fingerprint_rdk = np.array(RDKFingerprint(mol))\n",
    "    fingerprints.append(fingerprint_rdk)\n",
    "fingerprints = np.array(fingerprints)\n",
    "fingerprints"
   ]
  },
  {
   "cell_type": "code",
   "execution_count": 11,
   "id": "59d025aa",
   "metadata": {},
   "outputs": [
    {
     "name": "stdout",
     "output_type": "stream",
     "text": [
      "Number of features = 2048\n"
     ]
    }
   ],
   "source": [
    "print(\"Number of features =\",fingerprints.shape[1])"
   ]
  },
  {
   "cell_type": "markdown",
   "id": "98ff12f0",
   "metadata": {},
   "source": [
    "## VISUALIZATION OF DATA\n",
    "Data is obtained from the following paper - https://doi.org/10.1371/journal.pcbi.1010613 <br>\n",
    "In this paper (and a previous paper of theirs), they conducted a series of HTS to obtain the Average B-score and residual values for a series of small molecules to see their potency against Burkholderia cenocepacia.<br>\n",
    "Quoting the paper,<br>\n",
    "\n",
    "\"The dataset used in the ML approach consisted of 29,537 compounds with residual growth (RG) values and average B-scores. The RG measures the ratio of bacterial growth in the presence and absence of the compounds. The B-score measures relative potency that adjusts the RG for any screening artifacts resulting from well position (row and column) in the assay plate during the HTS. The B-score is inversely proportional to compound potency, where negative B-scores indicate greater growth inhibitory activity of the compounds. To binarize the compounds, the previously established average B-score threshold of -17.5 was chosen [https://doi.org/10.1371/journal.pone.0128587]. Overall, 256 small molecules were classified as growth inhibitory.\"\n",
    "\n",
    "Staying true to the essence of the paper, we will be setting a threshold of -17.5 for B-score in our data as well, i.e. below this threshold, the compound is labeled active, and otherwise inactive."
   ]
  },
  {
   "cell_type": "code",
   "execution_count": 12,
   "id": "07e003d7",
   "metadata": {},
   "outputs": [
    {
     "name": "stdout",
     "output_type": "stream",
     "text": [
      "Number of active compounds = 256\n"
     ]
    }
   ],
   "source": [
    "# Checking data for number of active compounds\n",
    "# idx - ID, SMILE, B, RES, is_active\n",
    "count = 0\n",
    "for i in range(len(data)):\n",
    "    if float(data[i][2]) <= -17.5:\n",
    "        if float(data[i][4]) == 1:\n",
    "            count += 1\n",
    "print(\"Number of active compounds =\",count)\n",
    "# This follows what is mentioned in the paper."
   ]
  },
  {
   "cell_type": "code",
   "execution_count": 13,
   "id": "488ee69f",
   "metadata": {},
   "outputs": [],
   "source": [
    "# Get the B-score values\n",
    "Bscores = []\n",
    "active = []\n",
    "is_active = []\n",
    "for i in range(len(data)):\n",
    "    Bscores.append(float(data[i][2]))\n",
    "    is_active.append(float(data[i][4]))\n",
    "    if float(data[i][4]) == 0:\n",
    "        active.append(\"Inactive\")\n",
    "    else:\n",
    "         active.append(\"Active\")   \n",
    "compound_idx = np.arange(len(Bscores))\n",
    "is_active = np.array(is_active)"
   ]
  },
  {
   "cell_type": "code",
   "execution_count": 14,
   "id": "f3a3ab9c",
   "metadata": {},
   "outputs": [
    {
     "data": {
      "text/plain": [
       "[Text(0.5, 0, 'Compound Index'), Text(0, 0.5, 'B-Score')]"
      ]
     },
     "execution_count": 14,
     "metadata": {},
     "output_type": "execute_result"
    },
    {
     "data": {
      "image/png": "[encoded data removed]",
      "text/plain": [
       "<Figure size 640x480 with 1 Axes>"
      ]
     },
     "metadata": {},
     "output_type": "display_data"
    }
   ],
   "source": [
    "# Visualizing data\n",
    "# Plot B-scores\n",
    "fig, ax = plt.subplots()\n",
    "# plt.scatter(compound_idx[0:100], Bscores[0:100], c =\"blue\")\n",
    "sns.set(style='whitegrid')\n",
    "sns.scatterplot(x=compound_idx,\n",
    "                    y=Bscores,\n",
    "                    hue=active, marker='+')\n",
    "# ax.set_ylim(-500, 100)\n",
    "ax.set(xlabel='Compound Index', ylabel='B-Score')"
   ]
  },
  {
   "cell_type": "markdown",
   "id": "5f9083d0",
   "metadata": {},
   "source": [
    "## SPLITTING OF DATA\n",
    "This is an important section because our data is heavily unbalanced. Therefore, we do random undersampling of the major class.\n"
   ]
  },
  {
   "cell_type": "code",
   "execution_count": 24,
   "id": "c8f7884a",
   "metadata": {},
   "outputs": [],
   "source": [
    "# Includes undersampling of major label to make classes balanced.\n",
    "def train_test_split(X_resampled, y_resampled, split_ratio=0.8):\n",
    "#     rus = RandomUnderSampler() # to make it reproducible -- random_state=rng\n",
    "#     X_resampled, y_resampled = rus.fit_resample(fingerprints, active)\n",
    "    \n",
    "    # split data\n",
    "    # get random permutations\n",
    "    rand_idx = np.random.permutation(len(X_resampled))\n",
    "    train_size = round(len(X_resampled)*split_ratio)\n",
    "    trainX = X_resampled[rand_idx[0:train_size]]\n",
    "    testX = X_resampled[rand_idx[train_size:len(X_resampled)]]\n",
    "    trainY = y_resampled[rand_idx[0:train_size]]\n",
    "    testY = y_resampled[rand_idx[train_size:len(X_resampled)]]\n",
    "    \n",
    "    return trainX, trainY, testX, testY"
   ]
  },
  {
   "cell_type": "code",
   "execution_count": 32,
   "id": "bfd1baaf",
   "metadata": {},
   "outputs": [],
   "source": [
    "# Includes undersampling of major label to make classes balanced.\n",
    "def Get_RUS(fingerprints, active, rng=10):\n",
    "    rus = RandomUnderSampler()#random_state=rng) # to make it reproducible -- random_state=rng\n",
    "    X_resampled, y_resampled = rus.fit_resample(fingerprints, active)\n",
    "    return X_resampled, y_resampled\n"
   ]
  },
  {
   "cell_type": "code",
   "execution_count": 26,
   "id": "7f99282e",
   "metadata": {},
   "outputs": [],
   "source": [
    "X_resamples, y_resampled = Get_RUS(fingerprints, is_active)\n",
    "trainX, trainY, testX, testY = train_test_split(X_resamples, y_resampled)"
   ]
  },
  {
   "cell_type": "code",
   "execution_count": 27,
   "id": "7924d0f9",
   "metadata": {},
   "outputs": [
    {
     "name": "stdout",
     "output_type": "stream",
     "text": [
      "Number of active compounds in:\n",
      "Train Set =  207\n",
      "Test Set =  49\n",
      "Number of inactive compounds in:\n",
      "Train Set =  203\n",
      "Test Set =  53\n"
     ]
    }
   ],
   "source": [
    "print(\"Number of active compounds in:\")\n",
    "print(\"Train Set = \", sum(trainY == 1))\n",
    "print(\"Test Set = \", sum(testY == 1))\n",
    "\n",
    "print(\"Number of inactive compounds in:\")\n",
    "print(\"Train Set = \", sum(trainY == 0))\n",
    "print(\"Test Set = \", sum(testY == 0))"
   ]
  },
  {
   "cell_type": "markdown",
   "id": "ace9e5d3",
   "metadata": {},
   "source": [
    "## IMPLEMENTING LOGISTIC REGRESSION ON MOLECULAR FINGERPRINTS\n",
    "Logistic regression will be our base learner for this project. Below is the passive learning implementation for the same."
   ]
  },
  {
   "cell_type": "code",
   "execution_count": 28,
   "id": "99db39c2",
   "metadata": {},
   "outputs": [],
   "source": [
    "class LogR():\n",
    "    def __init__(self, x, y):\n",
    "        self.trainX = x\n",
    "        self.trainY = y.reshape(len(y),)\n",
    "        self.model = LogisticRegression(random_state=0, max_iter=500)\n",
    "    def fit(self):\n",
    "        self.model.fit(self.trainX, self.trainY)\n",
    "    def predict(self, x):\n",
    "        return self.model.predict(x)\n",
    "#     def predict_prob(self, x):\n",
    "#         return self.model.predict_proba(x)\n",
    "#     def predict_logprob(self, x):\n",
    "#         return self.model.predict_log_proba(x)\n",
    "    def generate_acc(self, pred, true):\n",
    "        return accuracy_score(true, pred)"
   ]
  },
  {
   "cell_type": "code",
   "execution_count": 29,
   "id": "442e106b",
   "metadata": {},
   "outputs": [],
   "source": [
    "model = LogR(trainX, trainY)\n",
    "model.fit()\n",
    "y_pred = model.predict(testX)"
   ]
  },
  {
   "cell_type": "code",
   "execution_count": 30,
   "id": "2e60aa70",
   "metadata": {},
   "outputs": [
    {
     "data": {
      "text/plain": [
       "0.7450980392156863"
      ]
     },
     "execution_count": 30,
     "metadata": {},
     "output_type": "execute_result"
    }
   ],
   "source": [
    "model.generate_acc(y_pred, testY)"
   ]
  },
  {
   "cell_type": "code",
   "execution_count": 40,
   "id": "25c76c99",
   "metadata": {},
   "outputs": [
    {
     "name": "stdout",
     "output_type": "stream",
     "text": [
      "486\n"
     ]
    }
   ],
   "source": [
    "N_simulations = 100\n",
    "batch_size = 1\n",
    "X_resampled, y_resampled = Get_RUS(fingerprints, is_active, rng=10)\n",
    "trainX, trainY, testX, testY = train_test_split(X_resampled, y_resampled, split_ratio=0.05)\n",
    "print(len(testX))\n",
    "N_rounds = len(testX) - 10\n",
    "performance_mat = np.zeros((N_simulations, N_rounds))\n",
    "prec_mat = np.zeros((N_simulations, N_rounds))\n",
    "recall_mat = np.zeros((N_simulations, N_rounds))\n",
    "f1_mat = np.zeros((N_simulations, N_rounds))"
   ]
  },
  {
   "cell_type": "code",
   "execution_count": 41,
   "id": "2a352c76",
   "metadata": {},
   "outputs": [
    {
     "data": {
      "text/plain": [
       "(512, 2048)"
      ]
     },
     "execution_count": 41,
     "metadata": {},
     "output_type": "execute_result"
    }
   ],
   "source": [
    "X_resampled, y_resampled = Get_RUS(fingerprints, is_active, rng=10)\n",
    "X_resampled.shape"
   ]
  },
  {
   "cell_type": "code",
   "execution_count": 42,
   "id": "96a6680f",
   "metadata": {},
   "outputs": [
    {
     "name": "stdout",
     "output_type": "stream",
     "text": [
      "0\n",
      "1\n",
      "2\n",
      "3\n",
      "4\n",
      "5\n",
      "6\n",
      "7\n",
      "8\n",
      "9\n",
      "10\n",
      "11\n",
      "12\n",
      "13\n",
      "14\n",
      "15\n",
      "16\n",
      "17\n",
      "18\n",
      "19\n",
      "20\n",
      "21\n",
      "22\n",
      "23\n",
      "24\n",
      "25\n",
      "26\n",
      "27\n",
      "28\n",
      "29\n",
      "30\n",
      "31\n",
      "32\n",
      "33\n",
      "34\n",
      "35\n",
      "36\n",
      "37\n",
      "38\n",
      "39\n",
      "40\n",
      "41\n",
      "42\n",
      "43\n",
      "44\n",
      "45\n",
      "46\n",
      "47\n",
      "48\n",
      "49\n",
      "50\n",
      "51\n",
      "52\n",
      "53\n",
      "54\n",
      "55\n",
      "56\n",
      "57\n",
      "58\n",
      "59\n",
      "60\n",
      "61\n",
      "62\n",
      "63\n",
      "64\n",
      "65\n",
      "66\n",
      "67\n",
      "68\n",
      "69\n",
      "70\n",
      "71\n",
      "72\n",
      "73\n",
      "74\n",
      "75\n",
      "76\n",
      "77\n",
      "78\n",
      "79\n",
      "80\n",
      "81\n",
      "82\n",
      "83\n",
      "84\n",
      "85\n",
      "86\n",
      "87\n",
      "88\n",
      "89\n",
      "90\n",
      "91\n",
      "92\n",
      "93\n",
      "94\n",
      "95\n",
      "96\n",
      "97\n",
      "98\n",
      "99\n"
     ]
    }
   ],
   "source": [
    "# Run multiple simulations since we are sampling the dataset for train-test-split\n",
    "for simulations in range(N_simulations):\n",
    "    np.random.seed(simulations+10)\n",
    "    X_resampled, y_resampled = Get_RUS(fingerprints, is_active)\n",
    "    trainX, trainY, testX, testY = train_test_split(X_resampled, y_resampled, split_ratio=0.05)\n",
    "    print(simulations)\n",
    "    for r in range(N_rounds):\n",
    "        model = LogR(trainX, trainY)\n",
    "        model.fit()\n",
    "        y_pred = model.predict(testX)\n",
    "        performance_mat[simulations, r] = model.generate_acc(y_pred, testY)\n",
    "        # calculate precision, recall, and F1 score\n",
    "        precision = precision_score(testY, y_pred)\n",
    "        prec_mat[simulations, r] = precision\n",
    "        recall = recall_score(testY, y_pred)\n",
    "        recall_mat[simulations, r] = recall\n",
    "        f1 = f1_score(testY, y_pred)\n",
    "        f1_mat[simulations, r] = f1\n",
    "\n",
    "        selected_samples = np.random.choice(np.arange(testX.shape[0]), size=batch_size)\n",
    "\n",
    "        trainX = np.concatenate((trainX, testX[selected_samples]), axis=0)\n",
    "        trainY = np.concatenate((trainY, testY[selected_samples]), axis=0)\n",
    "\n",
    "        # Delete row from testX\n",
    "        testX = np.delete(testX, selected_samples, axis=0)\n",
    "        testY = np.delete(testY, selected_samples, axis=0)\n"
   ]
  },
  {
   "cell_type": "code",
   "execution_count": 43,
   "id": "2bdb356b",
   "metadata": {},
   "outputs": [],
   "source": [
    "avg_acc = np.mean(performance_mat,axis=0)\n",
    "avg_std = np.std(performance_mat, axis=0)\n",
    "\n",
    "avg_prec = np.mean(prec_mat, axis=0)\n",
    "std_prec = np.std(prec_mat, axis=0)\n",
    "avg_recall = np.mean(recall_mat, axis=0)\n",
    "std_recall = np.std(recall_mat, axis=0)\n",
    "avg_f1 = np.mean(f1_mat, axis=0)\n",
    "std_f1 = np.std(f1_mat, axis=0)"
   ]
  },
  {
   "cell_type": "code",
   "execution_count": 44,
   "id": "a6297841",
   "metadata": {},
   "outputs": [],
   "source": [
    "# Save the array to a file\n",
    "np.save('random_performance'+str(N_simulations)+'.npy', avg_acc)\n",
    "np.save('random_std'+str(N_simulations)+'.npy', avg_std)\n",
    "\n",
    "np.save('random_prec'+str(N_simulations)+'.npy', avg_prec)\n",
    "np.save('random_recall'+str(N_simulations)+'.npy', avg_recall)\n",
    "np.save('random_f1'+str(N_simulations)+'.npy', avg_f1)\n",
    "\n",
    "np.save('random_prec_std'+str(N_simulations)+'.npy', std_prec)\n",
    "np.save('random_recall_std'+str(N_simulations)+'.npy', std_recall)\n",
    "np.save('random_f1_std'+str(N_simulations)+'.npy', std_f1)"
   ]
  },
  {
   "cell_type": "code",
   "execution_count": 40,
   "id": "d39088d2",
   "metadata": {},
   "outputs": [
    {
     "name": "stdout",
     "output_type": "stream",
     "text": [
      "(476,) (476,)\n"
     ]
    },
    {
     "name": "stderr",
     "output_type": "stream",
     "text": [
      "/Users/Mirudhula/opt/anaconda3/envs/IDL2/lib/python3.10/site-packages/matplotlib/axes/_axes.py:1185: RuntimeWarning: All-NaN axis encountered\n",
      "  miny = np.nanmin(masked_verts[..., 1])\n",
      "/Users/Mirudhula/opt/anaconda3/envs/IDL2/lib/python3.10/site-packages/matplotlib/axes/_axes.py:1186: RuntimeWarning: All-NaN axis encountered\n",
      "  maxy = np.nanmax(masked_verts[..., 1])\n"
     ]
    },
    {
     "data": {
      "image/png": "[encoded data removed]",
      "text/plain": [
       "<Figure size 640x480 with 1 Axes>"
      ]
     },
     "metadata": {},
     "output_type": "display_data"
    }
   ],
   "source": [
    "# Create x axis values\n",
    "xaxis = np.arange(N_rounds)\n",
    "print(avg_acc.shape, xaxis.shape)\n",
    "# Create plot\n",
    "sns.set_style(\"whitegrid\")\n",
    "# Plot the data with shaded error bars\n",
    "# Plot the data with error bars\n",
    "# Create a mask to show error bars only every 50 data points\n",
    "# Subset arrays to show error bars every 50 on the x-axis\n",
    "step_size = 50\n",
    "x_subset = xaxis[::step_size]\n",
    "y_subset = avg_acc[::step_size]\n",
    "std_subset = avg_std[::step_size]\n",
    "\n",
    "# Create line plot with error bars\n",
    "sns.lineplot(x=xaxis, y=avg_acc, errorbar='ci', err_style='bars')\n",
    "\n",
    "# Overlay error bars for the subset of data\n",
    "plt.errorbar(x=x_subset, y=y_subset, yerr=std_subset, fmt='none', color='black', capsize=5, label='Random Learning')# plt.plot(xaxis, avg_acc)\n",
    "# plt.errorbar(xaxis, avg_acc, yerr = avg_std, color='c', label='Random Learning')\n",
    "plt.ylim([0.4, 1])\n",
    "plt.ylabel(\"Accuracy\")\n",
    "plt.xlabel(\"No. of samples in training set\")\n",
    "plt.savefig(\"random_performance_plot.png\")\n"
   ]
  }
 ],
 "metadata": {
  "kernelspec": {
   "display_name": "Python [conda env:IDL2]",
   "language": "python",
   "name": "conda-env-IDL2-py"
  },
  "language_info": {
   "codemirror_mode": {
    "name": "ipython",
    "version": 3
   },
   "file_extension": ".py",
   "mimetype": "text/x-python",
   "name": "python",
   "nbconvert_exporter": "python",
   "pygments_lexer": "ipython3",
   "version": "3.10.6"
  }
 },
 "nbformat": 4,
 "nbformat_minor": 5
}
